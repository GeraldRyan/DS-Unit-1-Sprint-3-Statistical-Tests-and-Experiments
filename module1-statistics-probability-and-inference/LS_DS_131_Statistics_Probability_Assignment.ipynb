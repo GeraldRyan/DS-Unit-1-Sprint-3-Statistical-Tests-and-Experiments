{
  "nbformat": 4,
  "nbformat_minor": 0,
  "metadata": {
    "kernelspec": {
      "display_name": "Python 3",
      "language": "python",
      "name": "python3"
    },
    "language_info": {
      "codemirror_mode": {
        "name": "ipython",
        "version": 3
      },
      "file_extension": ".py",
      "mimetype": "text/x-python",
      "name": "python",
      "nbconvert_exporter": "python",
      "pygments_lexer": "ipython3",
      "version": "3.7.3"
    },
    "colab": {
      "name": "LS_DS_131_Statistics_Probability_Assignment.ipynb",
      "provenance": [],
      "collapsed_sections": [],
      "include_colab_link": true
    }
  },
  "cells": [
    {
      "cell_type": "markdown",
      "metadata": {
        "id": "view-in-github",
        "colab_type": "text"
      },
      "source": [
        "<a href=\"https://colab.research.google.com/github/GeraldRyan/DS-Unit-1-Sprint-3-Statistical-Tests-and-Experiments/blob/master/module1-statistics-probability-and-inference/LS_DS_131_Statistics_Probability_Assignment.ipynb\" target=\"_parent\"><img src=\"https://colab.research.google.com/assets/colab-badge.svg\" alt=\"Open In Colab\"/></a>"
      ]
    },
    {
      "cell_type": "markdown",
      "metadata": {
        "id": "FeRzezfiq4AM"
      },
      "source": [
        "<img align=\"left\" src=\"https://lever-client-logos.s3.amazonaws.com/864372b1-534c-480e-acd5-9711f850815c-1524247202159.png\" width=200>\n",
        "<br></br>\n",
        "<br></br>\n",
        "\n",
        "## *Data Science Unit 1 Sprint 3 Assignment 1*\n",
        "\n",
        "# Apply the t-test to real data\n",
        "\n",
        "Your assignment is to determine which issues have \"statistically significant\" differences between political parties in this [1980s congressional voting data](https://archive.ics.uci.edu/ml/datasets/Congressional+Voting+Records). The data consists of 435 instances (one for each congressperson), a class (democrat or republican), and 16 binary attributes (yes or no for voting for or against certain issues). Be aware - there are missing values!\n",
        "\n",
        "Your goals:\n",
        "\n",
        "1. Load and clean the data (or determine the best method to drop observations when running tests)\n",
        "2. Using hypothesis testing, find an issue that democrats support more than republicans with p < 0.01\n",
        "3. Using hypothesis testing, find an issue that republicans support more than democrats with p < 0.01\n",
        "4. Using hypothesis testing, find an issue where the difference between republicans and democrats has p > 0.1 (i.e. there may not be much of a difference)\n",
        "\n",
        "Note that this data will involve *2 sample* t-tests, because you're comparing averages across two groups (republicans and democrats) rather than a single group against a null hypothesis.\n",
        "\n",
        "Stretch goals:\n",
        "\n",
        "1. Refactor your code into functions so it's easy to rerun with arbitrary variables\n",
        "2. Apply hypothesis testing to your personal project data (for the purposes of this notebook you can type a summary of the hypothesis you formed and tested)"
      ]
    },
    {
      "cell_type": "code",
      "metadata": {
        "id": "cqufI8GxvCEh"
      },
      "source": [
        "##Practice Code   "
      ],
      "execution_count": null,
      "outputs": []
    },
    {
      "cell_type": "code",
      "metadata": {
        "id": "EWLyDF_ssAIB"
      },
      "source": [
        "import numpy as np"
      ],
      "execution_count": 2,
      "outputs": []
    },
    {
      "cell_type": "code",
      "metadata": {
        "id": "yxSXpVqssKnw"
      },
      "source": [
        "mean = 0\n",
        "sigma = 1"
      ],
      "execution_count": 3,
      "outputs": []
    },
    {
      "cell_type": "code",
      "metadata": {
        "id": "tHkFQVnPsdtj"
      },
      "source": [
        "import seaborn as sns\n",
        "import matplotlib.pyplot as plt"
      ],
      "execution_count": 4,
      "outputs": []
    },
    {
      "cell_type": "code",
      "metadata": {
        "id": "btJRt4Wysl2i"
      },
      "source": [
        "plt.style.use('seaborn-bright')\n",
        "sample = np.random.normal(loc=mean, scale=sigma, size=1000)"
      ],
      "execution_count": 5,
      "outputs": []
    },
    {
      "cell_type": "code",
      "metadata": {
        "id": "Vzdj10dkshrO",
        "outputId": "71281d8e-b575-479e-d9b1-12a77c9395b3",
        "colab": {
          "base_uri": "https://localhost:8080/",
          "height": 555
        }
      },
      "source": [
        "fix, ax = plt.subplots(figsize=(8,8))\n",
        "ax = sns.distplot(sample)\n",
        "ax.set_title('the normal distribution', fontsize=16)\n",
        "fix.savefig(\"NormalDistribution.png\", transparent=False, dpi=150)\n",
        "fix.savefig(\"NormalDistributionTransparent.png\", transparent=True, dpi=150)\n"
      ],
      "execution_count": 6,
      "outputs": [
        {
          "output_type": "stream",
          "text": [
            "/usr/local/lib/python3.6/dist-packages/seaborn/distributions.py:2551: FutureWarning: `distplot` is a deprecated function and will be removed in a future version. Please adapt your code to use either `displot` (a figure-level function with similar flexibility) or `histplot` (an axes-level function for histograms).\n",
            "  warnings.warn(msg, FutureWarning)\n"
          ],
          "name": "stderr"
        },
        {
          "output_type": "display_data",
          "data": {
            "image/png": "[encoded data removed]",
            "text/plain": [
              "<Figure size 576x576 with 1 Axes>"
            ]
          },
          "metadata": {
            "tags": [],
            "needs_background": "light"
          }
        }
      ]
    },
    {
      "cell_type": "code",
      "metadata": {
        "id": "Y3t1t6MEs8Zq"
      },
      "source": [
        "##More practice Code\n",
        "#Create T distributions\n",
        "t_df10 = np.random.standard_t(df=10, size=100)\n",
        "t_df100 = np.random.standard_t(df=100, size=1000)\n",
        "t_df1000 = np.random.standard_t(df=1000, size=10000)\n",
        "\n",
        "#Create normal distribution\n",
        "s = np.random.normal(size=10000)\n",
        "\n",
        "\n"
      ],
      "execution_count": 7,
      "outputs": []
    },
    {
      "cell_type": "code",
      "metadata": {
        "id": "DSMIJpZXvpbi",
        "outputId": "a3e868d5-4587-4e2e-c5be-48d2a1999db3",
        "colab": {
          "base_uri": "https://localhost:8080/",
          "height": 265
        }
      },
      "source": [
        "#create the figures and axes and plots\n",
        "ax = sns.kdeplot(t_df10, color='r')\n",
        "ax = sns.kdeplot(t_df100, color='g')\n",
        "ax = sns.kdeplot(t_df1000, color='b')\n",
        "ax = sns.kdeplot(s, color='k');"
      ],
      "execution_count": 8,
      "outputs": [
        {
          "output_type": "display_data",
          "data": {
            "image/png": "[encoded data removed]",
            "text/plain": [
              "<Figure size 432x288 with 1 Axes>"
            ]
          },
          "metadata": {
            "tags": [],
            "needs_background": "light"
          }
        }
      ]
    },
    {
      "cell_type": "code",
      "metadata": {
        "id": "xUJEYHK-vy0F",
        "outputId": "135aed67-2743-4ec7-9c14-64b88313a158",
        "colab": {
          "base_uri": "https://localhost:8080/",
          "height": 68
        }
      },
      "source": [
        "## More training\n",
        "from scipy import stats\n",
        "import numpy as np\n",
        "## generate random test scores\n",
        "rvs = stats.norm.rvs(loc=69, scale=6.5, size=50,random_state=42)\n",
        "\n",
        "#display scores as check\n",
        "rvs\n",
        "\n",
        "#check sample mean and std\n",
        "print(\"the mean of the sample is\", rvs.mean())\n",
        "print(\"the standard deviation of the sample is\", rvs.std())\n",
        "\n",
        "# Calculate t value using ttest__1samp\n",
        "stats.ttest_1samp(rvs, popmean=72)"
      ],
      "execution_count": 9,
      "outputs": [
        {
          "output_type": "stream",
          "text": [
            "the mean of the sample is 67.53441961583509\n",
            "the standard deviation of the sample is 6.00785209617076\n"
          ],
          "name": "stdout"
        },
        {
          "output_type": "execute_result",
          "data": {
            "text/plain": [
              "Ttest_1sampResult(statistic=-5.2030346601039055, pvalue=3.841987344207577e-06)"
            ]
          },
          "metadata": {
            "tags": []
          },
          "execution_count": 9
        }
      ]
    },
    {
      "cell_type": "code",
      "metadata": {
        "id": "eQpapKsrvXDy",
        "outputId": "2ce25814-661b-4eda-82ca-66e6dc0e395e",
        "colab": {
          "base_uri": "https://localhost:8080/",
          "height": 34
        }
      },
      "source": [
        "#calculate t-value\n",
        "tstatistic = ((rvs.mean() - 72)/(rvs.std()/np.sqrt(rvs.size)))\n",
        "print(\"The t statistic is \", tstatistic)"
      ],
      "execution_count": 10,
      "outputs": [
        {
          "output_type": "stream",
          "text": [
            "The t statistic is  -5.255858701297306\n"
          ],
          "name": "stdout"
        }
      ]
    },
    {
      "cell_type": "code",
      "metadata": {
        "id": "YpM62yQFEUgD",
        "outputId": "97b1bb84-7883-41a9-fc2c-8ba545dbaabf",
        "colab": {
          "resources": {
            "http://localhost:8080/nbextensions/google.colab/files.js": {
              "data": "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",
              "ok": true,
              "headers": [
                [
                  "content-type",
                  "application/javascript"
                ]
              ],
              "status": 200,
              "status_text": ""
            }
          },
          "base_uri": "https://localhost:8080/",
          "height": 72
        }
      },
      "source": [
        "from google.colab import files\n",
        "uploaded = files.upload()"
      ],
      "execution_count": 11,
      "outputs": [
        {
          "output_type": "display_data",
          "data": {
            "text/html": [
              "\n",
              "     <input type=\"file\" id=\"files-cd395a26-d7d1-480d-b744-cc4041e63948\" name=\"files[]\" multiple disabled\n",
              "        style=\"border:none\" />\n",
              "     <output id=\"result-cd395a26-d7d1-480d-b744-cc4041e63948\">\n",
              "      Upload widget is only available when the cell has been executed in the\n",
              "      current browser session. Please rerun this cell to enable.\n",
              "      </output>\n",
              "      <script src=\"/nbextensions/google.colab/files.js\"></script> "
            ],
            "text/plain": [
              "<IPython.core.display.HTML object>"
            ]
          },
          "metadata": {
            "tags": []
          }
        },
        {
          "output_type": "stream",
          "text": [
            "Saving names.csv to names.csv\n"
          ],
          "name": "stdout"
        }
      ]
    },
    {
      "cell_type": "code",
      "metadata": {
        "id": "vHavXcOIq4AO",
        "outputId": "fbd066b7-a7f0-4d13-a58d-065a7fba4365",
        "colab": {
          "base_uri": "https://localhost:8080/",
          "height": 238
        }
      },
      "source": [
        "### YOUR CODE STARTS HERE\n",
        "import pandas as pd\n",
        "import io\n",
        "\n",
        "url = \"https://archive.ics.uci.edu/ml/machine-learning-databases/voting-records/house-votes-84.data\"\n",
        "columns = list(pd.read_csv(io.BytesIO(uploaded[\"names.csv\"])))\n",
        "#scrub white space\n",
        "for i in range(len(columns)):\n",
        "  columns[i] = columns[i][1:]\n",
        "\n",
        "df = pd.read_csv(url, names=columns)\n",
        "\n",
        "df.head()\n"
      ],
      "execution_count": 16,
      "outputs": [
        {
          "output_type": "execute_result",
          "data": {
            "text/html": [
              "<div>\n",
              "<style scoped>\n",
              "    .dataframe tbody tr th:only-of-type {\n",
              "        vertical-align: middle;\n",
              "    }\n",
              "\n",
              "    .dataframe tbody tr th {\n",
              "        vertical-align: top;\n",
              "    }\n",
              "\n",
              "    .dataframe thead th {\n",
              "        text-align: right;\n",
              "    }\n",
              "</style>\n",
              "<table border=\"1\" class=\"dataframe\">\n",
              "  <thead>\n",
              "    <tr style=\"text-align: right;\">\n",
              "      <th></th>\n",
              "      <th>Class Name</th>\n",
              "      <th>handicapped-infants</th>\n",
              "      <th>water-project-cost-sharing</th>\n",
              "      <th>adoption-of-the-budget-resolution</th>\n",
              "      <th>physician-fee-freeze</th>\n",
              "      <th>el-salvador-aid</th>\n",
              "      <th>religious-groups-in-schools</th>\n",
              "      <th>anti-satellite-test-ban</th>\n",
              "      <th>aid-to-nicaraguan-contras</th>\n",
              "      <th>mx-missile</th>\n",
              "      <th>immigration</th>\n",
              "      <th>synfuels-corporation-cutback</th>\n",
              "      <th>education-spending</th>\n",
              "      <th>superfund-right-to-sue</th>\n",
              "      <th>crime</th>\n",
              "      <th>duty-free-exports</th>\n",
              "      <th>export-administration-act-south-africa</th>\n",
              "    </tr>\n",
              "  </thead>\n",
              "  <tbody>\n",
              "    <tr>\n",
              "      <th>0</th>\n",
              "      <td>republican</td>\n",
              "      <td>n</td>\n",
              "      <td>y</td>\n",
              "      <td>n</td>\n",
              "      <td>y</td>\n",
              "      <td>y</td>\n",
              "      <td>y</td>\n",
              "      <td>n</td>\n",
              "      <td>n</td>\n",
              "      <td>n</td>\n",
              "      <td>y</td>\n",
              "      <td>?</td>\n",
              "      <td>y</td>\n",
              "      <td>y</td>\n",
              "      <td>y</td>\n",
              "      <td>n</td>\n",
              "      <td>y</td>\n",
              "    </tr>\n",
              "    <tr>\n",
              "      <th>1</th>\n",
              "      <td>republican</td>\n",
              "      <td>n</td>\n",
              "      <td>y</td>\n",
              "      <td>n</td>\n",
              "      <td>y</td>\n",
              "      <td>y</td>\n",
              "      <td>y</td>\n",
              "      <td>n</td>\n",
              "      <td>n</td>\n",
              "      <td>n</td>\n",
              "      <td>n</td>\n",
              "      <td>n</td>\n",
              "      <td>y</td>\n",
              "      <td>y</td>\n",
              "      <td>y</td>\n",
              "      <td>n</td>\n",
              "      <td>?</td>\n",
              "    </tr>\n",
              "    <tr>\n",
              "      <th>2</th>\n",
              "      <td>democrat</td>\n",
              "      <td>?</td>\n",
              "      <td>y</td>\n",
              "      <td>y</td>\n",
              "      <td>?</td>\n",
              "      <td>y</td>\n",
              "      <td>y</td>\n",
              "      <td>n</td>\n",
              "      <td>n</td>\n",
              "      <td>n</td>\n",
              "      <td>n</td>\n",
              "      <td>y</td>\n",
              "      <td>n</td>\n",
              "      <td>y</td>\n",
              "      <td>y</td>\n",
              "      <td>n</td>\n",
              "      <td>n</td>\n",
              "    </tr>\n",
              "    <tr>\n",
              "      <th>3</th>\n",
              "      <td>democrat</td>\n",
              "      <td>n</td>\n",
              "      <td>y</td>\n",
              "      <td>y</td>\n",
              "      <td>n</td>\n",
              "      <td>?</td>\n",
              "      <td>y</td>\n",
              "      <td>n</td>\n",
              "      <td>n</td>\n",
              "      <td>n</td>\n",
              "      <td>n</td>\n",
              "      <td>y</td>\n",
              "      <td>n</td>\n",
              "      <td>y</td>\n",
              "      <td>n</td>\n",
              "      <td>n</td>\n",
              "      <td>y</td>\n",
              "    </tr>\n",
              "    <tr>\n",
              "      <th>4</th>\n",
              "      <td>democrat</td>\n",
              "      <td>y</td>\n",
              "      <td>y</td>\n",
              "      <td>y</td>\n",
              "      <td>n</td>\n",
              "      <td>y</td>\n",
              "      <td>y</td>\n",
              "      <td>n</td>\n",
              "      <td>n</td>\n",
              "      <td>n</td>\n",
              "      <td>n</td>\n",
              "      <td>y</td>\n",
              "      <td>?</td>\n",
              "      <td>y</td>\n",
              "      <td>y</td>\n",
              "      <td>y</td>\n",
              "      <td>y</td>\n",
              "    </tr>\n",
              "  </tbody>\n",
              "</table>\n",
              "</div>"
            ],
            "text/plain": [
              "   Class Name  ... export-administration-act-south-africa\n",
              "0  republican  ...                                      y\n",
              "1  republican  ...                                      ?\n",
              "2    democrat  ...                                      n\n",
              "3    democrat  ...                                      y\n",
              "4    democrat  ...                                      y\n",
              "\n",
              "[5 rows x 17 columns]"
            ]
          },
          "metadata": {
            "tags": []
          },
          "execution_count": 16
        }
      ]
    },
    {
      "cell_type": "code",
      "metadata": {
        "id": "pEjZp51rHeba",
        "outputId": "e52aeb62-cb50-428b-e8e2-f2c5d5fd80f8",
        "colab": {
          "base_uri": "https://localhost:8080/",
          "height": 207
        }
      },
      "source": [
        "# 16 issues, between columns 2:17. Can pick random or whatever. \n",
        "#TODO \n",
        "# Group by Repub/Democrat\n",
        "grouped_by = df.groupby(\"Class Name\").apply(lambda g: g[\"education-spending\"].value_counts())\n",
        "pivot_table = pd.pivot_table(df, index=\"Class Name\", columns=[\"immigration\"], aggfunc=\"count\")\n",
        "# pivot = df.pivot(index=\"Class Name\", columns=\"immigration\")\n",
        "# grouped_by.head() \n",
        "pivot_table.head()\n",
        "  \n",
        "  ##ABORT TRYING TO MAKE A PIVOT TABLE"
      ],
      "execution_count": 17,
      "outputs": [
        {
          "output_type": "execute_result",
          "data": {
            "text/html": [
              "<div>\n",
              "<style scoped>\n",
              "    .dataframe tbody tr th:only-of-type {\n",
              "        vertical-align: middle;\n",
              "    }\n",
              "\n",
              "    .dataframe tbody tr th {\n",
              "        vertical-align: top;\n",
              "    }\n",
              "\n",
              "    .dataframe thead tr th {\n",
              "        text-align: left;\n",
              "    }\n",
              "\n",
              "    .dataframe thead tr:last-of-type th {\n",
              "        text-align: right;\n",
              "    }\n",
              "</style>\n",
              "<table border=\"1\" class=\"dataframe\">\n",
              "  <thead>\n",
              "    <tr>\n",
              "      <th></th>\n",
              "      <th colspan=\"3\" halign=\"left\">adoption-of-the-budget-resolution</th>\n",
              "      <th colspan=\"3\" halign=\"left\">aid-to-nicaraguan-contras</th>\n",
              "      <th colspan=\"3\" halign=\"left\">anti-satellite-test-ban</th>\n",
              "      <th colspan=\"3\" halign=\"left\">crime</th>\n",
              "      <th colspan=\"3\" halign=\"left\">duty-free-exports</th>\n",
              "      <th colspan=\"3\" halign=\"left\">education-spending</th>\n",
              "      <th colspan=\"3\" halign=\"left\">el-salvador-aid</th>\n",
              "      <th colspan=\"3\" halign=\"left\">export-administration-act-south-africa</th>\n",
              "      <th colspan=\"3\" halign=\"left\">handicapped-infants</th>\n",
              "      <th colspan=\"3\" halign=\"left\">mx-missile</th>\n",
              "      <th colspan=\"3\" halign=\"left\">physician-fee-freeze</th>\n",
              "      <th colspan=\"3\" halign=\"left\">religious-groups-in-schools</th>\n",
              "      <th colspan=\"3\" halign=\"left\">superfund-right-to-sue</th>\n",
              "      <th colspan=\"3\" halign=\"left\">synfuels-corporation-cutback</th>\n",
              "      <th colspan=\"3\" halign=\"left\">water-project-cost-sharing</th>\n",
              "    </tr>\n",
              "    <tr>\n",
              "      <th>immigration</th>\n",
              "      <th>?</th>\n",
              "      <th>n</th>\n",
              "      <th>y</th>\n",
              "      <th>?</th>\n",
              "      <th>n</th>\n",
              "      <th>y</th>\n",
              "      <th>?</th>\n",
              "      <th>n</th>\n",
              "      <th>y</th>\n",
              "      <th>?</th>\n",
              "      <th>n</th>\n",
              "      <th>y</th>\n",
              "      <th>?</th>\n",
              "      <th>n</th>\n",
              "      <th>y</th>\n",
              "      <th>?</th>\n",
              "      <th>n</th>\n",
              "      <th>y</th>\n",
              "      <th>?</th>\n",
              "      <th>n</th>\n",
              "      <th>y</th>\n",
              "      <th>?</th>\n",
              "      <th>n</th>\n",
              "      <th>y</th>\n",
              "      <th>?</th>\n",
              "      <th>n</th>\n",
              "      <th>y</th>\n",
              "      <th>?</th>\n",
              "      <th>n</th>\n",
              "      <th>y</th>\n",
              "      <th>?</th>\n",
              "      <th>n</th>\n",
              "      <th>y</th>\n",
              "      <th>?</th>\n",
              "      <th>n</th>\n",
              "      <th>y</th>\n",
              "      <th>?</th>\n",
              "      <th>n</th>\n",
              "      <th>y</th>\n",
              "      <th>?</th>\n",
              "      <th>n</th>\n",
              "      <th>y</th>\n",
              "      <th>?</th>\n",
              "      <th>n</th>\n",
              "      <th>y</th>\n",
              "    </tr>\n",
              "    <tr>\n",
              "      <th>Class Name</th>\n",
              "      <th></th>\n",
              "      <th></th>\n",
              "      <th></th>\n",
              "      <th></th>\n",
              "      <th></th>\n",
              "      <th></th>\n",
              "      <th></th>\n",
              "      <th></th>\n",
              "      <th></th>\n",
              "      <th></th>\n",
              "      <th></th>\n",
              "      <th></th>\n",
              "      <th></th>\n",
              "      <th></th>\n",
              "      <th></th>\n",
              "      <th></th>\n",
              "      <th></th>\n",
              "      <th></th>\n",
              "      <th></th>\n",
              "      <th></th>\n",
              "      <th></th>\n",
              "      <th></th>\n",
              "      <th></th>\n",
              "      <th></th>\n",
              "      <th></th>\n",
              "      <th></th>\n",
              "      <th></th>\n",
              "      <th></th>\n",
              "      <th></th>\n",
              "      <th></th>\n",
              "      <th></th>\n",
              "      <th></th>\n",
              "      <th></th>\n",
              "      <th></th>\n",
              "      <th></th>\n",
              "      <th></th>\n",
              "      <th></th>\n",
              "      <th></th>\n",
              "      <th></th>\n",
              "      <th></th>\n",
              "      <th></th>\n",
              "      <th></th>\n",
              "      <th></th>\n",
              "      <th></th>\n",
              "      <th></th>\n",
              "    </tr>\n",
              "  </thead>\n",
              "  <tbody>\n",
              "    <tr>\n",
              "      <th>democrat</th>\n",
              "      <td>4</td>\n",
              "      <td>139</td>\n",
              "      <td>124</td>\n",
              "      <td>4</td>\n",
              "      <td>139</td>\n",
              "      <td>124</td>\n",
              "      <td>4</td>\n",
              "      <td>139</td>\n",
              "      <td>124</td>\n",
              "      <td>4</td>\n",
              "      <td>139</td>\n",
              "      <td>124</td>\n",
              "      <td>4</td>\n",
              "      <td>139</td>\n",
              "      <td>124</td>\n",
              "      <td>4</td>\n",
              "      <td>139</td>\n",
              "      <td>124</td>\n",
              "      <td>4</td>\n",
              "      <td>139</td>\n",
              "      <td>124</td>\n",
              "      <td>4</td>\n",
              "      <td>139</td>\n",
              "      <td>124</td>\n",
              "      <td>4</td>\n",
              "      <td>139</td>\n",
              "      <td>124</td>\n",
              "      <td>4</td>\n",
              "      <td>139</td>\n",
              "      <td>124</td>\n",
              "      <td>4</td>\n",
              "      <td>139</td>\n",
              "      <td>124</td>\n",
              "      <td>4</td>\n",
              "      <td>139</td>\n",
              "      <td>124</td>\n",
              "      <td>4</td>\n",
              "      <td>139</td>\n",
              "      <td>124</td>\n",
              "      <td>4</td>\n",
              "      <td>139</td>\n",
              "      <td>124</td>\n",
              "      <td>4</td>\n",
              "      <td>139</td>\n",
              "      <td>124</td>\n",
              "    </tr>\n",
              "    <tr>\n",
              "      <th>republican</th>\n",
              "      <td>3</td>\n",
              "      <td>73</td>\n",
              "      <td>92</td>\n",
              "      <td>3</td>\n",
              "      <td>73</td>\n",
              "      <td>92</td>\n",
              "      <td>3</td>\n",
              "      <td>73</td>\n",
              "      <td>92</td>\n",
              "      <td>3</td>\n",
              "      <td>73</td>\n",
              "      <td>92</td>\n",
              "      <td>3</td>\n",
              "      <td>73</td>\n",
              "      <td>92</td>\n",
              "      <td>3</td>\n",
              "      <td>73</td>\n",
              "      <td>92</td>\n",
              "      <td>3</td>\n",
              "      <td>73</td>\n",
              "      <td>92</td>\n",
              "      <td>3</td>\n",
              "      <td>73</td>\n",
              "      <td>92</td>\n",
              "      <td>3</td>\n",
              "      <td>73</td>\n",
              "      <td>92</td>\n",
              "      <td>3</td>\n",
              "      <td>73</td>\n",
              "      <td>92</td>\n",
              "      <td>3</td>\n",
              "      <td>73</td>\n",
              "      <td>92</td>\n",
              "      <td>3</td>\n",
              "      <td>73</td>\n",
              "      <td>92</td>\n",
              "      <td>3</td>\n",
              "      <td>73</td>\n",
              "      <td>92</td>\n",
              "      <td>3</td>\n",
              "      <td>73</td>\n",
              "      <td>92</td>\n",
              "      <td>3</td>\n",
              "      <td>73</td>\n",
              "      <td>92</td>\n",
              "    </tr>\n",
              "  </tbody>\n",
              "</table>\n",
              "</div>"
            ],
            "text/plain": [
              "            adoption-of-the-budget-resolution       ... water-project-cost-sharing     \n",
              "immigration                                 ?    n  ...                          n    y\n",
              "Class Name                                          ...                                \n",
              "democrat                                    4  139  ...                        139  124\n",
              "republican                                  3   73  ...                         73   92\n",
              "\n",
              "[2 rows x 45 columns]"
            ]
          },
          "metadata": {
            "tags": []
          },
          "execution_count": 17
        }
      ]
    },
    {
      "cell_type": "code",
      "metadata": {
        "id": "hRbrnxANiJNf",
        "outputId": "f85f9a84-1e8d-4e65-9821-31c47ef450dd",
        "colab": {
          "base_uri": "https://localhost:8080/",
          "height": 34
        }
      },
      "source": [
        "#Make getter function\n",
        "def get_votes(dataframe, party: str, issue: str, stance: str ):\n",
        "  party_df = dataframe.loc[dataframe[\"Class Name\"]==party]\n",
        "  roll = party_df.loc[party_df[issue] ==stance]\n",
        "  \n",
        "  return len(roll[issue].tolist())\n",
        "\n",
        "get_votes(df, \"democrat\", \"education-spending\", \"n\") # Works\n",
        "\n",
        "\n",
        "#Get votes on specific issue by party - e.g. immigration\n",
        "republican_yes_immigration = get_votes(df, \"republican\", \"immigration\", \"y\")\n",
        "democrat_yes_immigration = get_votes(df, \"democrat\", \"immigration\", \"y\")\n",
        "republican_yes_immigration\n"
      ],
      "execution_count": 18,
      "outputs": [
        {
          "output_type": "execute_result",
          "data": {
            "text/plain": [
              "92"
            ]
          },
          "metadata": {
            "tags": []
          },
          "execution_count": 18
        }
      ]
    },
    {
      "cell_type": "code",
      "metadata": {
        "id": "YdSHzA5L4F-l"
      },
      "source": [
        "#Make issue details getter function\n",
        "def get_details(dataframe, issue):\n",
        "  details = {}\n",
        "  details[\"yes\"] = 0\n",
        "  details[\"no\"] = 0\n",
        "  details[\"total\"] = len(dataframe[\"Class Name\"].tolist())\n",
        "  for s in set(dataframe[\"Class Name\"].tolist()):\n",
        "    party_df = dataframe.loc[dataframe[\"Class Name\"] == s]\n",
        "    vote_list = party_df[issue].tolist()\n",
        "    vote_roll = party_df[issue].replace(['n', 'y','?'], [0,1, None]).tolist()\n",
        "    details[s] = {\"y\": vote_list.count(\"y\"), \"n\": vote_list.count(\"n\"), \"?\":vote_list.count(\"?\"), \"total\":len(vote_list)}\n",
        "    details[\"yes\"] += details[s]['y']\n",
        "    details[\"no\"] += details[s]['n']\n",
        "    details[s]['roll'] = vote_roll # roll is an array of 1 and 0 that can be run wtih Numpy\n",
        "    details[s]['party_mean'] = np.nanmean(details[s]['roll'])\n",
        "    details[s]['party_std'] = np.nanstd(details[s]['roll'])\n",
        "\n",
        "  details[\"allgemeines_mean\"] = details[\"yes\"] / details[\"total\"]\n",
        "  for s in set(dataframe[\"Class Name\"].tolist()): # now we have totals and mean let's go for standard deviation by party\n",
        "\n",
        "    \n",
        "\n",
        "  return details\n",
        "\n",
        "get_details(df, 'immigration') "
      ],
      "execution_count": null,
      "outputs": []
    },
    {
      "cell_type": "code",
      "metadata": {
        "id": "nmPTRJl27e8m"
      },
      "source": [
        "def get_details_all(df):\n",
        "  all_details = {}\n",
        "  for c in df.columns.tolist():\n",
        "    if c == \"Class Name\":\n",
        "      continue\n",
        "    all_details[c] = get_details(df, c)\n",
        "  return all_details\n",
        "\n",
        "\n",
        "all_vote_details = get_details_all(df)\n",
        "all_vote_details"
      ],
      "execution_count": null,
      "outputs": []
    },
    {
      "cell_type": "code",
      "metadata": {
        "id": "sSCElyMl_RJM",
        "outputId": "5860fedc-768b-448f-aef3-1185a094f2b5",
        "colab": {
          "base_uri": "https://localhost:8080/",
          "height": 34
        }
      },
      "source": [
        "# run t test \n",
        "def run_t_test(obj, issue):\n",
        "  mean_r = obj[issue]['republican'][\"party_mean\"]\n",
        "  mean_d = obj[issue]['democrat'][\"party_mean\"]\n",
        "  std_r = obj[issue]['republican'][\"party_std\"]\n",
        "  std_d = obj[issue]['democrat'][\"party_std\"]\n",
        "  pop_r = obj[issue]['republican'][\"total\"]\n",
        "  pop_d = obj[issue]['democrat'][\"total\"]\n",
        "  numerator = mean_r - mean_d\n",
        "  left_term = (std_r**2/pop_r)\n",
        "  right_term = (std_d**2/pop_d)\n",
        "  denominator = (left_term + right_term)**.5\n",
        "  t = numerator / denominator\n",
        "\n",
        "\n",
        "from scipy import stats\n",
        "\n",
        "run_t_test(all_vote_details, 'religious-groups-in-schools')\n",
        "\n",
        "# use scipy to do the lifting\n",
        "\n",
        "def use_scipy(obj, issue):\n",
        "  a = obj[issue]['republican']['roll']\n",
        "  b = obj[issue]['democrat']['roll']\n",
        "  return [a,b]\n",
        "\n",
        "\n",
        "\n",
        "[a,b] = use_scipy(all_vote_details, 'water-project-cost-sharing')\n",
        "stats.ttest_ind(a, b, nan_policy=\"omit\")\n",
        "\n",
        "# statistic is t statistic; pvalue is the same. For immigration it is above .01\n",
        "# That means that there can be overlap. That means they do not disagree partisanly\n",
        "\n",
        "# Ttest_indResult(statistic=1.7359117329695164, pvalue=0.08330248490425066)\n",
        "\n",
        "# Gosh for education-spending the p value is 1.8 e -64 so almost nothing. that can't be right. Or maybe it can. \n",
        "# physician-fee-freeze is extreme partisan at e -77\n",
        "# water-project-cost-sharing is almost p value of 100, at .929 votes are all within 1 and 2 of equal "
      ],
      "execution_count": 51,
      "outputs": [
        {
          "output_type": "execute_result",
          "data": {
            "text/plain": [
              "Ttest_indResult(statistic=0.08896538137868286, pvalue=0.9291556823993485)"
            ]
          },
          "metadata": {
            "tags": []
          },
          "execution_count": 51
        }
      ]
    },
    {
      "cell_type": "code",
      "metadata": {
        "id": "JgZyUrJH51J-"
      },
      "source": [
        "# That's it I think. Let the code do the heavy lifting. Just know how to run it. It just takes two arrays and it computes the mean and median and all that."
      ],
      "execution_count": null,
      "outputs": []
    }
  ]
}